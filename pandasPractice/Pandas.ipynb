{
 "cells": [
  {
   "cell_type": "code",
   "execution_count": 1,
   "metadata": {},
   "outputs": [],
   "source": [
    "import pandas as pd"
   ]
  },
  {
   "cell_type": "markdown",
   "metadata": {},
   "source": [
    "## Series\n",
    "---"
   ]
  },
  {
   "cell_type": "code",
   "execution_count": 2,
   "metadata": {},
   "outputs": [
    {
     "data": {
      "text/plain": [
       "0    100\n",
       "1    200\n",
       "2    300\n",
       "dtype: int64"
      ]
     },
     "execution_count": 2,
     "metadata": {},
     "output_type": "execute_result"
    }
   ],
   "source": [
    "series_test = pd.Series([100, 200, 300])\n",
    "series_test"
   ]
  },
  {
   "cell_type": "code",
   "execution_count": 10,
   "metadata": {},
   "outputs": [
    {
     "data": {
      "text/plain": [
       "1999    48\n",
       "200     65\n",
       "2000    89\n",
       "dtype: int64"
      ]
     },
     "execution_count": 10,
     "metadata": {},
     "output_type": "execute_result"
    }
   ],
   "source": [
    "series_test2 = pd.Series({1999:48, 200:65, 2000:89})\n",
    "series_test2"
   ]
  },
  {
   "cell_type": "markdown",
   "metadata": {},
   "source": [
    "## DataFrames\n",
    "---"
   ]
  },
  {
   "cell_type": "code",
   "execution_count": 12,
   "metadata": {},
   "outputs": [
    {
     "data": {
      "text/html": [
       "<div>\n",
       "<style scoped>\n",
       "    .dataframe tbody tr th:only-of-type {\n",
       "        vertical-align: middle;\n",
       "    }\n",
       "\n",
       "    .dataframe tbody tr th {\n",
       "        vertical-align: top;\n",
       "    }\n",
       "\n",
       "    .dataframe thead th {\n",
       "        text-align: right;\n",
       "    }\n",
       "</style>\n",
       "<table border=\"1\" class=\"dataframe\">\n",
       "  <thead>\n",
       "    <tr style=\"text-align: right;\">\n",
       "      <th></th>\n",
       "      <th>1999</th>\n",
       "      <th>2000</th>\n",
       "      <th>2001</th>\n",
       "    </tr>\n",
       "  </thead>\n",
       "  <tbody>\n",
       "    <tr>\n",
       "      <th>0</th>\n",
       "      <td>10</td>\n",
       "      <td>13</td>\n",
       "      <td>16</td>\n",
       "    </tr>\n",
       "    <tr>\n",
       "      <th>1</th>\n",
       "      <td>11</td>\n",
       "      <td>14</td>\n",
       "      <td>17</td>\n",
       "    </tr>\n",
       "    <tr>\n",
       "      <th>2</th>\n",
       "      <td>12</td>\n",
       "      <td>15</td>\n",
       "      <td>18</td>\n",
       "    </tr>\n",
       "  </tbody>\n",
       "</table>\n",
       "</div>"
      ],
      "text/plain": [
       "   1999  2000  2001\n",
       "0    10    13    16\n",
       "1    11    14    17\n",
       "2    12    15    18"
      ]
     },
     "execution_count": 12,
     "metadata": {},
     "output_type": "execute_result"
    }
   ],
   "source": [
    "frame_test = pd.DataFrame({1999:[10, 11, 12], 2000:[13, 14, 15], 2001:[16, 17, 18]})\n",
    "frame_test"
   ]
  },
  {
   "cell_type": "code",
   "execution_count": 19,
   "metadata": {},
   "outputs": [
    {
     "data": {
      "text/html": [
       "<div>\n",
       "<style scoped>\n",
       "    .dataframe tbody tr th:only-of-type {\n",
       "        vertical-align: middle;\n",
       "    }\n",
       "\n",
       "    .dataframe tbody tr th {\n",
       "        vertical-align: top;\n",
       "    }\n",
       "\n",
       "    .dataframe thead th {\n",
       "        text-align: right;\n",
       "    }\n",
       "</style>\n",
       "<table border=\"1\" class=\"dataframe\">\n",
       "  <thead>\n",
       "    <tr style=\"text-align: right;\">\n",
       "      <th></th>\n",
       "      <th>1999</th>\n",
       "      <th>2000</th>\n",
       "      <th>2001</th>\n",
       "    </tr>\n",
       "  </thead>\n",
       "  <tbody>\n",
       "    <tr>\n",
       "      <th>0</th>\n",
       "      <td>10</td>\n",
       "      <td>13</td>\n",
       "      <td>16</td>\n",
       "    </tr>\n",
       "    <tr>\n",
       "      <th>1</th>\n",
       "      <td>11</td>\n",
       "      <td>14</td>\n",
       "      <td>17</td>\n",
       "    </tr>\n",
       "    <tr>\n",
       "      <th>2</th>\n",
       "      <td>12</td>\n",
       "      <td>15</td>\n",
       "      <td>18</td>\n",
       "    </tr>\n",
       "  </tbody>\n",
       "</table>\n",
       "</div>"
      ],
      "text/plain": [
       "   1999  2000  2001\n",
       "0    10    13    16\n",
       "1    11    14    17\n",
       "2    12    15    18"
      ]
     },
     "execution_count": 19,
     "metadata": {},
     "output_type": "execute_result"
    }
   ],
   "source": [
    "frame_test2 = pd.DataFrame([[10, 11, 12], [13, 14, 15], [16, 17, 18]])\n",
    "frame_test2 = frame_test2.transpose()\n",
    "frame_test2.columns = [1999, 2000, 2001]\n",
    "frame_test2"
   ]
  },
  {
   "cell_type": "markdown",
   "metadata": {},
   "source": [
    "## Read data\n",
    "---"
   ]
  },
  {
   "cell_type": "code",
   "execution_count": 32,
   "metadata": {},
   "outputs": [],
   "source": [
    "el_universal = pd.read_csv('../webScrapper/eluniversal_2020_03_06_articles.csv')"
   ]
  },
  {
   "cell_type": "code",
   "execution_count": 33,
   "metadata": {},
   "outputs": [
    {
     "data": {
      "text/html": [
       "<div>\n",
       "<style scoped>\n",
       "    .dataframe tbody tr th:only-of-type {\n",
       "        vertical-align: middle;\n",
       "    }\n",
       "\n",
       "    .dataframe tbody tr th {\n",
       "        vertical-align: top;\n",
       "    }\n",
       "\n",
       "    .dataframe thead th {\n",
       "        text-align: right;\n",
       "    }\n",
       "</style>\n",
       "<table border=\"1\" class=\"dataframe\">\n",
       "  <thead>\n",
       "    <tr style=\"text-align: right;\">\n",
       "      <th></th>\n",
       "      <th>body</th>\n",
       "      <th>title</th>\n",
       "      <th>url</th>\n",
       "    </tr>\n",
       "  </thead>\n",
       "  <tbody>\n",
       "    <tr>\n",
       "      <th>0</th>\n",
       "      <td>\\n\\nA Guadalupe Esparza, líder del grupo Bronc...</td>\n",
       "      <td>Bronco pide soluciones concretas para mujeres</td>\n",
       "      <td>https://www.eluniversal.com.mx/espectaculos/br...</td>\n",
       "    </tr>\n",
       "    <tr>\n",
       "      <th>1</th>\n",
       "      <td>\\nEstados Unidos otorga una visa especial para...</td>\n",
       "      <td>NaN</td>\n",
       "      <td>https://www.viveusa.mx/educacion/la-visa-que-p...</td>\n",
       "    </tr>\n",
       "    <tr>\n",
       "      <th>2</th>\n",
       "      <td>\\nUn pasajero provocó que un avión de American...</td>\n",
       "      <td>NaN</td>\n",
       "      <td>https://www.viveusa.mx/noticias/pasajero-trata...</td>\n",
       "    </tr>\n",
       "    <tr>\n",
       "      <th>3</th>\n",
       "      <td>ECATEPEC.— Luego de más de medio año prófugo, ...</td>\n",
       "      <td>NaN</td>\n",
       "      <td>https://www.elgrafico.mx/la-roja/atoran-chofer...</td>\n",
       "    </tr>\n",
       "    <tr>\n",
       "      <th>4</th>\n",
       "      <td>\\nCon la autorización de utilizar peloteros de...</td>\n",
       "      <td>Quieren a Ligamayoristas en Juegos Olímpicos</td>\n",
       "      <td>https://www.eluniversal.com.mx/universal-depor...</td>\n",
       "    </tr>\n",
       "  </tbody>\n",
       "</table>\n",
       "</div>"
      ],
      "text/plain": [
       "                                                body  \\\n",
       "0  \\n\\nA Guadalupe Esparza, líder del grupo Bronc...   \n",
       "1  \\nEstados Unidos otorga una visa especial para...   \n",
       "2  \\nUn pasajero provocó que un avión de American...   \n",
       "3  ECATEPEC.— Luego de más de medio año prófugo, ...   \n",
       "4  \\nCon la autorización de utilizar peloteros de...   \n",
       "\n",
       "                                           title  \\\n",
       "0  Bronco pide soluciones concretas para mujeres   \n",
       "1                                            NaN   \n",
       "2                                            NaN   \n",
       "3                                            NaN   \n",
       "4   Quieren a Ligamayoristas en Juegos Olímpicos   \n",
       "\n",
       "                                                 url  \n",
       "0  https://www.eluniversal.com.mx/espectaculos/br...  \n",
       "1  https://www.viveusa.mx/educacion/la-visa-que-p...  \n",
       "2  https://www.viveusa.mx/noticias/pasajero-trata...  \n",
       "3  https://www.elgrafico.mx/la-roja/atoran-chofer...  \n",
       "4  https://www.eluniversal.com.mx/universal-depor...  "
      ]
     },
     "execution_count": 33,
     "metadata": {},
     "output_type": "execute_result"
    }
   ],
   "source": [
    "el_universal.head()"
   ]
  },
  {
   "cell_type": "code",
   "execution_count": 34,
   "metadata": {},
   "outputs": [
    {
     "data": {
      "text/plain": [
       "0          Bronco pide soluciones concretas para mujeres\n",
       "1                                                    NaN\n",
       "2                                                    NaN\n",
       "3                                                    NaN\n",
       "4           Quieren a Ligamayoristas en Juegos Olímpicos\n",
       "                             ...                        \n",
       "123                                                  NaN\n",
       "124           Cuando los mexicanos conocieron la pizza\\t\n",
       "125    ¿Y el lunes usted será mujer neoliberal o cons...\n",
       "126    Los años en que México activó alertas sanitari...\n",
       "127                                                  NaN\n",
       "Name: title, Length: 128, dtype: object"
      ]
     },
     "execution_count": 34,
     "metadata": {},
     "output_type": "execute_result"
    }
   ],
   "source": [
    "# Dictionary like:\n",
    "\n",
    "el_universal['title']"
   ]
  },
  {
   "cell_type": "code",
   "execution_count": 35,
   "metadata": {},
   "outputs": [
    {
     "data": {
      "text/html": [
       "<div>\n",
       "<style scoped>\n",
       "    .dataframe tbody tr th:only-of-type {\n",
       "        vertical-align: middle;\n",
       "    }\n",
       "\n",
       "    .dataframe tbody tr th {\n",
       "        vertical-align: top;\n",
       "    }\n",
       "\n",
       "    .dataframe thead th {\n",
       "        text-align: right;\n",
       "    }\n",
       "</style>\n",
       "<table border=\"1\" class=\"dataframe\">\n",
       "  <thead>\n",
       "    <tr style=\"text-align: right;\">\n",
       "      <th></th>\n",
       "      <th>title</th>\n",
       "      <th>body</th>\n",
       "    </tr>\n",
       "  </thead>\n",
       "  <tbody>\n",
       "    <tr>\n",
       "      <th>0</th>\n",
       "      <td>Bronco pide soluciones concretas para mujeres</td>\n",
       "      <td>\\n\\nA Guadalupe Esparza, líder del grupo Bronc...</td>\n",
       "    </tr>\n",
       "    <tr>\n",
       "      <th>1</th>\n",
       "      <td>NaN</td>\n",
       "      <td>\\nEstados Unidos otorga una visa especial para...</td>\n",
       "    </tr>\n",
       "    <tr>\n",
       "      <th>2</th>\n",
       "      <td>NaN</td>\n",
       "      <td>\\nUn pasajero provocó que un avión de American...</td>\n",
       "    </tr>\n",
       "    <tr>\n",
       "      <th>3</th>\n",
       "      <td>NaN</td>\n",
       "      <td>ECATEPEC.— Luego de más de medio año prófugo, ...</td>\n",
       "    </tr>\n",
       "    <tr>\n",
       "      <th>4</th>\n",
       "      <td>Quieren a Ligamayoristas en Juegos Olímpicos</td>\n",
       "      <td>\\nCon la autorización de utilizar peloteros de...</td>\n",
       "    </tr>\n",
       "    <tr>\n",
       "      <th>...</th>\n",
       "      <td>...</td>\n",
       "      <td>...</td>\n",
       "    </tr>\n",
       "    <tr>\n",
       "      <th>123</th>\n",
       "      <td>NaN</td>\n",
       "      <td>\\nLa conductora Khloé Kardashian presumió en I...</td>\n",
       "    </tr>\n",
       "    <tr>\n",
       "      <th>124</th>\n",
       "      <td>Cuando los mexicanos conocieron la pizza\\t</td>\n",
       "      <td>\\nTexto: Nayeli Reyes Castro\\nDiseño web: Migu...</td>\n",
       "    </tr>\n",
       "    <tr>\n",
       "      <th>125</th>\n",
       "      <td>¿Y el lunes usted será mujer neoliberal o cons...</td>\n",
       "      <td>\\nLa lucha por la equidad de género y el respe...</td>\n",
       "    </tr>\n",
       "    <tr>\n",
       "      <th>126</th>\n",
       "      <td>Los años en que México activó alertas sanitari...</td>\n",
       "      <td>\\nDesde los años 20 y 30 EL UNIVERSAL ha regis...</td>\n",
       "    </tr>\n",
       "    <tr>\n",
       "      <th>127</th>\n",
       "      <td>NaN</td>\n",
       "      <td>\\nLa modelo Demi Rose Mawby disfrutó de un día...</td>\n",
       "    </tr>\n",
       "  </tbody>\n",
       "</table>\n",
       "<p>128 rows × 2 columns</p>\n",
       "</div>"
      ],
      "text/plain": [
       "                                                 title  \\\n",
       "0        Bronco pide soluciones concretas para mujeres   \n",
       "1                                                  NaN   \n",
       "2                                                  NaN   \n",
       "3                                                  NaN   \n",
       "4         Quieren a Ligamayoristas en Juegos Olímpicos   \n",
       "..                                                 ...   \n",
       "123                                                NaN   \n",
       "124         Cuando los mexicanos conocieron la pizza\\t   \n",
       "125  ¿Y el lunes usted será mujer neoliberal o cons...   \n",
       "126  Los años en que México activó alertas sanitari...   \n",
       "127                                                NaN   \n",
       "\n",
       "                                                  body  \n",
       "0    \\n\\nA Guadalupe Esparza, líder del grupo Bronc...  \n",
       "1    \\nEstados Unidos otorga una visa especial para...  \n",
       "2    \\nUn pasajero provocó que un avión de American...  \n",
       "3    ECATEPEC.— Luego de más de medio año prófugo, ...  \n",
       "4    \\nCon la autorización de utilizar peloteros de...  \n",
       "..                                                 ...  \n",
       "123  \\nLa conductora Khloé Kardashian presumió en I...  \n",
       "124  \\nTexto: Nayeli Reyes Castro\\nDiseño web: Migu...  \n",
       "125  \\nLa lucha por la equidad de género y el respe...  \n",
       "126  \\nDesde los años 20 y 30 EL UNIVERSAL ha regis...  \n",
       "127  \\nLa modelo Demi Rose Mawby disfrutó de un día...  \n",
       "\n",
       "[128 rows x 2 columns]"
      ]
     },
     "execution_count": 35,
     "metadata": {},
     "output_type": "execute_result"
    }
   ],
   "source": [
    "el_universal[['title', 'body']]"
   ]
  },
  {
   "cell_type": "code",
   "execution_count": 36,
   "metadata": {},
   "outputs": [
    {
     "data": {
      "text/html": [
       "<div>\n",
       "<style scoped>\n",
       "    .dataframe tbody tr th:only-of-type {\n",
       "        vertical-align: middle;\n",
       "    }\n",
       "\n",
       "    .dataframe tbody tr th {\n",
       "        vertical-align: top;\n",
       "    }\n",
       "\n",
       "    .dataframe thead th {\n",
       "        text-align: right;\n",
       "    }\n",
       "</style>\n",
       "<table border=\"1\" class=\"dataframe\">\n",
       "  <thead>\n",
       "    <tr style=\"text-align: right;\">\n",
       "      <th></th>\n",
       "      <th>body</th>\n",
       "      <th>title</th>\n",
       "      <th>url</th>\n",
       "    </tr>\n",
       "  </thead>\n",
       "  <tbody>\n",
       "    <tr>\n",
       "      <th>10</th>\n",
       "      <td>\\nXplor, uno de los siete parques temáticos de...</td>\n",
       "      <td>El parque Xplor, de Grupo Xcaret, estrena una ...</td>\n",
       "      <td>https://www.eluniversal.com.mx/destinos/el-par...</td>\n",
       "    </tr>\n",
       "    <tr>\n",
       "      <th>11</th>\n",
       "      <td>\\n\\nEl director general de Santander México, H...</td>\n",
       "      <td>Faltan mensajes de certidumbre: Santander</td>\n",
       "      <td>https://www.eluniversal.com.mx/cartera/bancari...</td>\n",
       "    </tr>\n",
       "    <tr>\n",
       "      <th>12</th>\n",
       "      <td>\\n\\nEste año, la conmemoración del Día Interna...</td>\n",
       "      <td>Por una vida libre de violencia y discriminación</td>\n",
       "      <td>https://www.eluniversal.com.mx/opinion/yasmin-...</td>\n",
       "    </tr>\n",
       "    <tr>\n",
       "      <th>13</th>\n",
       "      <td>\\nEl presidente Andrés Manuel López Obrador as...</td>\n",
       "      <td>SLP es una isla, \"pero un paraíso\" en segurida...</td>\n",
       "      <td>https://www.eluniversal.com.mx/nacion/politica...</td>\n",
       "    </tr>\n",
       "    <tr>\n",
       "      <th>14</th>\n",
       "      <td>\\n\\nLa experiencia de las democracias en Améri...</td>\n",
       "      <td>Gobierno en crisis</td>\n",
       "      <td>https://www.eluniversal.com.mx/opinion/marcela...</td>\n",
       "    </tr>\n",
       "  </tbody>\n",
       "</table>\n",
       "</div>"
      ],
      "text/plain": [
       "                                                 body  \\\n",
       "10  \\nXplor, uno de los siete parques temáticos de...   \n",
       "11  \\n\\nEl director general de Santander México, H...   \n",
       "12  \\n\\nEste año, la conmemoración del Día Interna...   \n",
       "13  \\nEl presidente Andrés Manuel López Obrador as...   \n",
       "14  \\n\\nLa experiencia de las democracias en Améri...   \n",
       "\n",
       "                                                title  \\\n",
       "10  El parque Xplor, de Grupo Xcaret, estrena una ...   \n",
       "11          Faltan mensajes de certidumbre: Santander   \n",
       "12   Por una vida libre de violencia y discriminación   \n",
       "13  SLP es una isla, \"pero un paraíso\" en segurida...   \n",
       "14                                 Gobierno en crisis   \n",
       "\n",
       "                                                  url  \n",
       "10  https://www.eluniversal.com.mx/destinos/el-par...  \n",
       "11  https://www.eluniversal.com.mx/cartera/bancari...  \n",
       "12  https://www.eluniversal.com.mx/opinion/yasmin-...  \n",
       "13  https://www.eluniversal.com.mx/nacion/politica...  \n",
       "14  https://www.eluniversal.com.mx/opinion/marcela...  "
      ]
     },
     "execution_count": 36,
     "metadata": {},
     "output_type": "execute_result"
    }
   ],
   "source": [
    "# Numpy like:\n",
    "el_universal.iloc[10:15]"
   ]
  },
  {
   "cell_type": "code",
   "execution_count": 37,
   "metadata": {},
   "outputs": [
    {
     "data": {
      "text/plain": [
       "'Escuela Normal del Estado se une al paro nacional de mujeres'"
      ]
     },
     "execution_count": 37,
     "metadata": {},
     "output_type": "execute_result"
    }
   ],
   "source": [
    "el_universal.iloc[66]['title']"
   ]
  },
  {
   "cell_type": "code",
   "execution_count": 38,
   "metadata": {},
   "outputs": [
    {
     "data": {
      "text/plain": [
       "0    \\n\\nA Guadalupe Esparza, líder del grupo Bronc...\n",
       "1    \\nEstados Unidos otorga una visa especial para...\n",
       "2    \\nUn pasajero provocó que un avión de American...\n",
       "3    ECATEPEC.— Luego de más de medio año prófugo, ...\n",
       "4    \\nCon la autorización de utilizar peloteros de...\n",
       "Name: body, dtype: object"
      ]
     },
     "execution_count": 38,
     "metadata": {},
     "output_type": "execute_result"
    }
   ],
   "source": [
    "el_universal.iloc[:5, 0]"
   ]
  },
  {
   "cell_type": "code",
   "execution_count": 39,
   "metadata": {
    "scrolled": true
   },
   "outputs": [
    {
     "data": {
      "text/html": [
       "<div>\n",
       "<style scoped>\n",
       "    .dataframe tbody tr th:only-of-type {\n",
       "        vertical-align: middle;\n",
       "    }\n",
       "\n",
       "    .dataframe tbody tr th {\n",
       "        vertical-align: top;\n",
       "    }\n",
       "\n",
       "    .dataframe thead th {\n",
       "        text-align: right;\n",
       "    }\n",
       "</style>\n",
       "<table border=\"1\" class=\"dataframe\">\n",
       "  <thead>\n",
       "    <tr style=\"text-align: right;\">\n",
       "      <th></th>\n",
       "      <th>body</th>\n",
       "      <th>title</th>\n",
       "    </tr>\n",
       "  </thead>\n",
       "  <tbody>\n",
       "    <tr>\n",
       "      <th>0</th>\n",
       "      <td>\\n\\nA Guadalupe Esparza, líder del grupo Bronc...</td>\n",
       "      <td>Bronco pide soluciones concretas para mujeres</td>\n",
       "    </tr>\n",
       "    <tr>\n",
       "      <th>1</th>\n",
       "      <td>\\nEstados Unidos otorga una visa especial para...</td>\n",
       "      <td>NaN</td>\n",
       "    </tr>\n",
       "    <tr>\n",
       "      <th>2</th>\n",
       "      <td>\\nUn pasajero provocó que un avión de American...</td>\n",
       "      <td>NaN</td>\n",
       "    </tr>\n",
       "    <tr>\n",
       "      <th>3</th>\n",
       "      <td>ECATEPEC.— Luego de más de medio año prófugo, ...</td>\n",
       "      <td>NaN</td>\n",
       "    </tr>\n",
       "    <tr>\n",
       "      <th>4</th>\n",
       "      <td>\\nCon la autorización de utilizar peloteros de...</td>\n",
       "      <td>Quieren a Ligamayoristas en Juegos Olímpicos</td>\n",
       "    </tr>\n",
       "    <tr>\n",
       "      <th>...</th>\n",
       "      <td>...</td>\n",
       "      <td>...</td>\n",
       "    </tr>\n",
       "    <tr>\n",
       "      <th>123</th>\n",
       "      <td>\\nLa conductora Khloé Kardashian presumió en I...</td>\n",
       "      <td>NaN</td>\n",
       "    </tr>\n",
       "    <tr>\n",
       "      <th>124</th>\n",
       "      <td>\\nTexto: Nayeli Reyes Castro\\nDiseño web: Migu...</td>\n",
       "      <td>Cuando los mexicanos conocieron la pizza\\t</td>\n",
       "    </tr>\n",
       "    <tr>\n",
       "      <th>125</th>\n",
       "      <td>\\nLa lucha por la equidad de género y el respe...</td>\n",
       "      <td>¿Y el lunes usted será mujer neoliberal o cons...</td>\n",
       "    </tr>\n",
       "    <tr>\n",
       "      <th>126</th>\n",
       "      <td>\\nDesde los años 20 y 30 EL UNIVERSAL ha regis...</td>\n",
       "      <td>Los años en que México activó alertas sanitari...</td>\n",
       "    </tr>\n",
       "    <tr>\n",
       "      <th>127</th>\n",
       "      <td>\\nLa modelo Demi Rose Mawby disfrutó de un día...</td>\n",
       "      <td>NaN</td>\n",
       "    </tr>\n",
       "  </tbody>\n",
       "</table>\n",
       "<p>128 rows × 2 columns</p>\n",
       "</div>"
      ],
      "text/plain": [
       "                                                  body  \\\n",
       "0    \\n\\nA Guadalupe Esparza, líder del grupo Bronc...   \n",
       "1    \\nEstados Unidos otorga una visa especial para...   \n",
       "2    \\nUn pasajero provocó que un avión de American...   \n",
       "3    ECATEPEC.— Luego de más de medio año prófugo, ...   \n",
       "4    \\nCon la autorización de utilizar peloteros de...   \n",
       "..                                                 ...   \n",
       "123  \\nLa conductora Khloé Kardashian presumió en I...   \n",
       "124  \\nTexto: Nayeli Reyes Castro\\nDiseño web: Migu...   \n",
       "125  \\nLa lucha por la equidad de género y el respe...   \n",
       "126  \\nDesde los años 20 y 30 EL UNIVERSAL ha regis...   \n",
       "127  \\nLa modelo Demi Rose Mawby disfrutó de un día...   \n",
       "\n",
       "                                                 title  \n",
       "0        Bronco pide soluciones concretas para mujeres  \n",
       "1                                                  NaN  \n",
       "2                                                  NaN  \n",
       "3                                                  NaN  \n",
       "4         Quieren a Ligamayoristas en Juegos Olímpicos  \n",
       "..                                                 ...  \n",
       "123                                                NaN  \n",
       "124         Cuando los mexicanos conocieron la pizza\\t  \n",
       "125  ¿Y el lunes usted será mujer neoliberal o cons...  \n",
       "126  Los años en que México activó alertas sanitari...  \n",
       "127                                                NaN  \n",
       "\n",
       "[128 rows x 2 columns]"
      ]
     },
     "execution_count": 39,
     "metadata": {},
     "output_type": "execute_result"
    }
   ],
   "source": [
    "# Pandas like:\n",
    "el_universal.loc[:, 'body':'title']"
   ]
  },
  {
   "cell_type": "markdown",
   "metadata": {},
   "source": [
    "## Data wrangling\n",
    "---"
   ]
  },
  {
   "cell_type": "code",
   "execution_count": 40,
   "metadata": {},
   "outputs": [
    {
     "data": {
      "text/html": [
       "<div>\n",
       "<style scoped>\n",
       "    .dataframe tbody tr th:only-of-type {\n",
       "        vertical-align: middle;\n",
       "    }\n",
       "\n",
       "    .dataframe tbody tr th {\n",
       "        vertical-align: top;\n",
       "    }\n",
       "\n",
       "    .dataframe thead th {\n",
       "        text-align: right;\n",
       "    }\n",
       "</style>\n",
       "<table border=\"1\" class=\"dataframe\">\n",
       "  <thead>\n",
       "    <tr style=\"text-align: right;\">\n",
       "      <th></th>\n",
       "      <th>body</th>\n",
       "      <th>title</th>\n",
       "      <th>url</th>\n",
       "      <th>newspaper_uid</th>\n",
       "    </tr>\n",
       "  </thead>\n",
       "  <tbody>\n",
       "    <tr>\n",
       "      <th>0</th>\n",
       "      <td>\\n\\nA Guadalupe Esparza, líder del grupo Bronc...</td>\n",
       "      <td>Bronco pide soluciones concretas para mujeres</td>\n",
       "      <td>https://www.eluniversal.com.mx/espectaculos/br...</td>\n",
       "      <td>eluniversal</td>\n",
       "    </tr>\n",
       "    <tr>\n",
       "      <th>1</th>\n",
       "      <td>\\nEstados Unidos otorga una visa especial para...</td>\n",
       "      <td>NaN</td>\n",
       "      <td>https://www.viveusa.mx/educacion/la-visa-que-p...</td>\n",
       "      <td>eluniversal</td>\n",
       "    </tr>\n",
       "    <tr>\n",
       "      <th>2</th>\n",
       "      <td>\\nUn pasajero provocó que un avión de American...</td>\n",
       "      <td>NaN</td>\n",
       "      <td>https://www.viveusa.mx/noticias/pasajero-trata...</td>\n",
       "      <td>eluniversal</td>\n",
       "    </tr>\n",
       "    <tr>\n",
       "      <th>3</th>\n",
       "      <td>ECATEPEC.— Luego de más de medio año prófugo, ...</td>\n",
       "      <td>NaN</td>\n",
       "      <td>https://www.elgrafico.mx/la-roja/atoran-chofer...</td>\n",
       "      <td>eluniversal</td>\n",
       "    </tr>\n",
       "    <tr>\n",
       "      <th>4</th>\n",
       "      <td>\\nCon la autorización de utilizar peloteros de...</td>\n",
       "      <td>Quieren a Ligamayoristas en Juegos Olímpicos</td>\n",
       "      <td>https://www.eluniversal.com.mx/universal-depor...</td>\n",
       "      <td>eluniversal</td>\n",
       "    </tr>\n",
       "  </tbody>\n",
       "</table>\n",
       "</div>"
      ],
      "text/plain": [
       "                                                body  \\\n",
       "0  \\n\\nA Guadalupe Esparza, líder del grupo Bronc...   \n",
       "1  \\nEstados Unidos otorga una visa especial para...   \n",
       "2  \\nUn pasajero provocó que un avión de American...   \n",
       "3  ECATEPEC.— Luego de más de medio año prófugo, ...   \n",
       "4  \\nCon la autorización de utilizar peloteros de...   \n",
       "\n",
       "                                           title  \\\n",
       "0  Bronco pide soluciones concretas para mujeres   \n",
       "1                                            NaN   \n",
       "2                                            NaN   \n",
       "3                                            NaN   \n",
       "4   Quieren a Ligamayoristas en Juegos Olímpicos   \n",
       "\n",
       "                                                 url newspaper_uid  \n",
       "0  https://www.eluniversal.com.mx/espectaculos/br...   eluniversal  \n",
       "1  https://www.viveusa.mx/educacion/la-visa-que-p...   eluniversal  \n",
       "2  https://www.viveusa.mx/noticias/pasajero-trata...   eluniversal  \n",
       "3  https://www.elgrafico.mx/la-roja/atoran-chofer...   eluniversal  \n",
       "4  https://www.eluniversal.com.mx/universal-depor...   eluniversal  "
      ]
     },
     "execution_count": 40,
     "metadata": {},
     "output_type": "execute_result"
    }
   ],
   "source": [
    "# 1.- Add newspaper_uid to DataFrame\n",
    "el_universal['newspaper_uid'] = 'eluniversal'\n",
    "el_universal.head()"
   ]
  },
  {
   "cell_type": "code",
   "execution_count": 46,
   "metadata": {},
   "outputs": [
    {
     "data": {
      "text/html": [
       "<div>\n",
       "<style scoped>\n",
       "    .dataframe tbody tr th:only-of-type {\n",
       "        vertical-align: middle;\n",
       "    }\n",
       "\n",
       "    .dataframe tbody tr th {\n",
       "        vertical-align: top;\n",
       "    }\n",
       "\n",
       "    .dataframe thead th {\n",
       "        text-align: right;\n",
       "    }\n",
       "</style>\n",
       "<table border=\"1\" class=\"dataframe\">\n",
       "  <thead>\n",
       "    <tr style=\"text-align: right;\">\n",
       "      <th></th>\n",
       "      <th>body</th>\n",
       "      <th>title</th>\n",
       "      <th>url</th>\n",
       "      <th>newspaper_uid</th>\n",
       "      <th>host</th>\n",
       "    </tr>\n",
       "  </thead>\n",
       "  <tbody>\n",
       "    <tr>\n",
       "      <th>0</th>\n",
       "      <td>\\n\\nA Guadalupe Esparza, líder del grupo Bronc...</td>\n",
       "      <td>Bronco pide soluciones concretas para mujeres</td>\n",
       "      <td>https://www.eluniversal.com.mx/espectaculos/br...</td>\n",
       "      <td>eluniversal</td>\n",
       "      <td>www.eluniversal.com.mx</td>\n",
       "    </tr>\n",
       "    <tr>\n",
       "      <th>1</th>\n",
       "      <td>\\nEstados Unidos otorga una visa especial para...</td>\n",
       "      <td>NaN</td>\n",
       "      <td>https://www.viveusa.mx/educacion/la-visa-que-p...</td>\n",
       "      <td>eluniversal</td>\n",
       "      <td>www.viveusa.mx</td>\n",
       "    </tr>\n",
       "    <tr>\n",
       "      <th>2</th>\n",
       "      <td>\\nUn pasajero provocó que un avión de American...</td>\n",
       "      <td>NaN</td>\n",
       "      <td>https://www.viveusa.mx/noticias/pasajero-trata...</td>\n",
       "      <td>eluniversal</td>\n",
       "      <td>www.viveusa.mx</td>\n",
       "    </tr>\n",
       "    <tr>\n",
       "      <th>3</th>\n",
       "      <td>ECATEPEC.— Luego de más de medio año prófugo, ...</td>\n",
       "      <td>NaN</td>\n",
       "      <td>https://www.elgrafico.mx/la-roja/atoran-chofer...</td>\n",
       "      <td>eluniversal</td>\n",
       "      <td>www.elgrafico.mx</td>\n",
       "    </tr>\n",
       "    <tr>\n",
       "      <th>4</th>\n",
       "      <td>\\nCon la autorización de utilizar peloteros de...</td>\n",
       "      <td>Quieren a Ligamayoristas en Juegos Olímpicos</td>\n",
       "      <td>https://www.eluniversal.com.mx/universal-depor...</td>\n",
       "      <td>eluniversal</td>\n",
       "      <td>www.eluniversal.com.mx</td>\n",
       "    </tr>\n",
       "  </tbody>\n",
       "</table>\n",
       "</div>"
      ],
      "text/plain": [
       "                                                body  \\\n",
       "0  \\n\\nA Guadalupe Esparza, líder del grupo Bronc...   \n",
       "1  \\nEstados Unidos otorga una visa especial para...   \n",
       "2  \\nUn pasajero provocó que un avión de American...   \n",
       "3  ECATEPEC.— Luego de más de medio año prófugo, ...   \n",
       "4  \\nCon la autorización de utilizar peloteros de...   \n",
       "\n",
       "                                           title  \\\n",
       "0  Bronco pide soluciones concretas para mujeres   \n",
       "1                                            NaN   \n",
       "2                                            NaN   \n",
       "3                                            NaN   \n",
       "4   Quieren a Ligamayoristas en Juegos Olímpicos   \n",
       "\n",
       "                                                 url newspaper_uid  \\\n",
       "0  https://www.eluniversal.com.mx/espectaculos/br...   eluniversal   \n",
       "1  https://www.viveusa.mx/educacion/la-visa-que-p...   eluniversal   \n",
       "2  https://www.viveusa.mx/noticias/pasajero-trata...   eluniversal   \n",
       "3  https://www.elgrafico.mx/la-roja/atoran-chofer...   eluniversal   \n",
       "4  https://www.eluniversal.com.mx/universal-depor...   eluniversal   \n",
       "\n",
       "                     host  \n",
       "0  www.eluniversal.com.mx  \n",
       "1          www.viveusa.mx  \n",
       "2          www.viveusa.mx  \n",
       "3        www.elgrafico.mx  \n",
       "4  www.eluniversal.com.mx  "
      ]
     },
     "execution_count": 46,
     "metadata": {},
     "output_type": "execute_result"
    }
   ],
   "source": [
    "# 2.- Get the host\n",
    "from urllib.parse import urlparse\n",
    "\n",
    "el_universal['host'] = el_universal['url'].apply(lambda url: urlparse(url).netloc)\n",
    "el_universal.head()"
   ]
  },
  {
   "cell_type": "code",
   "execution_count": 47,
   "metadata": {},
   "outputs": [
    {
     "data": {
      "text/plain": [
       "www.eluniversal.com.mx         73\n",
       "www.viveusa.mx                 15\n",
       "de10.com.mx                     7\n",
       "www.eluniversalqueretaro.mx     5\n",
       "www.elgrafico.mx                5\n",
       "oaxaca.eluniversal.com.mx       5\n",
       "sanluis.eluniversal.com.mx      4\n",
       "www.unionpuebla.mx              4\n",
       "www.unioncdmx.mx                2\n",
       "www.unionguanajuato.mx          2\n",
       "www.unionjalisco.mx             2\n",
       "www.unionedomex.mx              2\n",
       "www.clubeluniversal.mx          1\n",
       "www.unionyucatan.mx             1\n",
       "Name: host, dtype: int64"
      ]
     },
     "execution_count": 47,
     "metadata": {},
     "output_type": "execute_result"
    }
   ],
   "source": [
    "el_universal['host'].value_counts()"
   ]
  },
  {
   "cell_type": "code",
   "execution_count": null,
   "metadata": {},
   "outputs": [],
   "source": []
  }
 ],
 "metadata": {
  "kernelspec": {
   "display_name": "Python 3",
   "language": "python",
   "name": "python3"
  },
  "language_info": {
   "codemirror_mode": {
    "name": "ipython",
    "version": 3
   },
   "file_extension": ".py",
   "mimetype": "text/x-python",
   "name": "python",
   "nbconvert_exporter": "python",
   "pygments_lexer": "ipython3",
   "version": "3.7.4"
  }
 },
 "nbformat": 4,
 "nbformat_minor": 2
}
